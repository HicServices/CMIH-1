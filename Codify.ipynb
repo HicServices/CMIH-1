{
 "cells": [
  {
   "cell_type": "code",
   "execution_count": 73,
   "metadata": {},
   "outputs": [],
   "source": [
    "import pydicom\n",
    "from pydicom.dataset import Dataset, FileMetaDataset\n",
    "from pydicom.sequence import Sequence\n",
    "import numpy as np\n",
    "import os"
   ]
  },
  {
   "cell_type": "code",
   "execution_count": 74,
   "metadata": {},
   "outputs": [],
   "source": [
    "# Orientation\n",
    "\n",
    "def file_plane(IOP):\n",
    "    IOP_round = [round(x) for x in IOP]\n",
    "    plane = np.cross(IOP_round[0:3], IOP_round[3:6])\n",
    "    plane = [abs(x) for x in plane]\n",
    "    if plane[0] == 1:\n",
    "        return 0    #\"Sagittal\"\n",
    "    elif plane[1] == 1:\n",
    "        return 1    #\"Coronal\"\n",
    "    elif plane[2] == 1:\n",
    "        return 2    #\"Transverse\"\n",
    "\n",
    "def newPosition(n,ax,xp_rt,yp_rt,x_rt,y_rt):\n",
    "    if ax == 0:\n",
    "        return(xp_rt+n*2*abs(xp_rt)/abs(x_rt))\n",
    "    else:\n",
    "        return(yp_rt+n*2*abs(yp_rt)/abs(y_rt))"
   ]
  },
  {
   "cell_type": "code",
   "execution_count": 75,
   "metadata": {
    "scrolled": true
   },
   "outputs": [
    {
     "name": "stdout",
     "output_type": "stream",
     "text": [
      "/Users/Alireza/Desktop/Datasets/Input/1.2.826.0.1.3680043.9.3218.1.1.1872364.1022.1591771672055.7043.0-3-104-6m3jni.dcm\n"
     ]
    }
   ],
   "source": [
    "path = os.getcwd()\n",
    "path='/Users/Alireza/Desktop/Datasets/'\n",
    "\n",
    "files = os.listdir(path+'Input')\n",
    "file_path2=path+'Input/'+files[1]\n",
    "print(file_path2)"
   ]
  },
  {
   "cell_type": "code",
   "execution_count": 76,
   "metadata": {},
   "outputs": [
    {
     "name": "stdout",
     "output_type": "stream",
     "text": [
      "2\n",
      "Covid4237\n"
     ]
    }
   ],
   "source": [
    "dsorg = pydicom.read_file(file_path2, force=True)\n",
    "\n",
    "IOP = dsorg.ImageOrientationPatient\n",
    "plane = file_plane(IOP)\n",
    "planVal=dsorg.ImagePositionPatient[plane]\n",
    "planVal=float(planVal)\n",
    "print(plane)\n",
    "print(dsorg.PatientName)"
   ]
  },
  {
   "cell_type": "code",
   "execution_count": 77,
   "metadata": {},
   "outputs": [],
   "source": [
    "xp_rt=dsorg.ImagePositionPatient[0]\n",
    "yp_rt=dsorg.ImagePositionPatient[1]\n",
    "\n",
    "x_rt=dsorg.Columns\n",
    "y_rt=dsorg.Rows"
   ]
  },
  {
   "cell_type": "code",
   "execution_count": 78,
   "metadata": {},
   "outputs": [],
   "source": [
    "# Put Contoure pixel cordination Inside file\n",
    "with open('/Users/Alireza/Desktop/Datasets/borders.npy', 'rb') as f:\n",
    "    num = np.load(f)\n",
    "\n",
    "borders=[]\n",
    "for t in range(len(num)):\n",
    "    #print(t,num[t])    \n",
    "    if plane == 0:  #\"Sagittal\"\n",
    "        x=planVal\n",
    "        y=newPosition(num[t][1],0,xp_rt,yp_rt,x_rt,y_rt)\n",
    "        z=newPosition(num[t][0],1,xp_rt,yp_rt,x_rt,y_rt)\n",
    "    elif plane == 1:  #\"Coronal\"\n",
    "        x=newPosition(num[t][1],0,xp_rt,yp_rt,x_rt,y_rt)\n",
    "        y=planVal\n",
    "        z=newPosition(num[t][0],1,xp_rt,yp_rt,x_rt,y_rt)\n",
    "    elif plane == 2:#  \"Transverse\"\n",
    "        x=newPosition(num[t][1],0,xp_rt,yp_rt,x_rt,y_rt)\n",
    "        y=newPosition(num[t][0],1,xp_rt,yp_rt,x_rt,y_rt)\n",
    "        z=planVal\n",
    "    borders.extend([x,y,z])"
   ]
  },
  {
   "cell_type": "code",
   "execution_count": 79,
   "metadata": {},
   "outputs": [],
   "source": [
    "# borders=[-199,\n",
    "#  -199,\n",
    "#  1879.5,\n",
    "#  199,\n",
    "#  -199,\n",
    "#  1879.5,  \n",
    "#  199,\n",
    "#  199,\n",
    "#  1879.5,    \n",
    "#  -199,\n",
    "#  199,\n",
    "#  1879.5, \n",
    "#  -199,\n",
    "#  -199,\n",
    "#  1879.5,]"
   ]
  },
  {
   "cell_type": "code",
   "execution_count": 80,
   "metadata": {
    "scrolled": false
   },
   "outputs": [],
   "source": [
    "#borders"
   ]
  },
  {
   "cell_type": "code",
   "execution_count": 81,
   "metadata": {},
   "outputs": [],
   "source": [
    "from pydicom.uid import generate_uid\n",
    "uid1=generate_uid()\n",
    "uid2=generate_uid()"
   ]
  },
  {
   "cell_type": "code",
   "execution_count": 82,
   "metadata": {},
   "outputs": [],
   "source": [
    "# File meta info data elements\n",
    "file_meta = FileMetaDataset()\n",
    "file_meta.FileMetaInformationGroupLength = 182\n",
    "file_meta.FileMetaInformationVersion = b'\\x00\\x01'\n",
    "file_meta.MediaStorageSOPClassUID = '1.2.840.10008.5.1.4.1.1.481.3'\n",
    "file_meta.MediaStorageSOPInstanceUID = uid1 #'1.2.826.0.1.534147.578.2719282597.2020101685637449'\n",
    "file_meta.TransferSyntaxUID = '1.2.840.10008.1.2.1'\n",
    "file_meta.ImplementationClassUID = '1.2.40.0.13.1.1'\n",
    "file_meta.ImplementationVersionName = 'dcm4che-2.0'"
   ]
  },
  {
   "cell_type": "code",
   "execution_count": 85,
   "metadata": {},
   "outputs": [
    {
     "data": {
      "text/plain": [
       "\"104\""
      ]
     },
     "execution_count": 85,
     "metadata": {},
     "output_type": "execute_result"
    }
   ],
   "source": [
    "dsorg.InstanceNumber"
   ]
  },
  {
   "cell_type": "code",
   "execution_count": 69,
   "metadata": {},
   "outputs": [],
   "source": [
    "ds = Dataset()\n",
    "\n",
    "# Main data elements\n",
    "ds = Dataset()\n",
    "ds.SOPClassUID = '1.2.840.10008.5.1.4.1.1.481.3'\n",
    "ds.SOPInstanceUID =uid1 #'1.2.826.0.1.534147.578.2719282597.2020101685637449' #uid1\n",
    "ds.StudyDate =dsorg.StudyDate #'20450916'\n",
    "ds.StudyTime =dsorg.StudyTime # '000000'\n",
    "ds.AccessionNumber = ''\n",
    "ds.Modality = 'RTSTRUCT'\n",
    "ds.Manufacturer =dsorg.Manufacturer # 'SIEMENS'\n",
    "ds.ReferringPhysicianName = ''\n",
    "ds.OperatorsName = ''\n",
    "ds.ManufacturerModelName = dsorg.ManufacturerModelName # SOMATOM Definition Edge'\n",
    "ds.PatientName = dsorg.PatientName # 'Covid7175'\n",
    "ds.PatientID = dsorg.PatientID # 'Covid7175'\n",
    "ds.PatientBirthDate = dsorg.PatientBirthDate # '19300101'\n",
    "ds.PatientSex = dsorg.PatientSex # 'F'\n",
    "ds.SoftwareVersions = dsorg.SoftwareVersions # 'syngo CT VA48A'\n",
    "ds.StudyInstanceUID = dsorg.StudyInstanceUID #'1.2.826.0.1.3680043.9.3218.1.1.302475.1985.1592890895061.53221.0' # dsOrg.StudyInstanceUID\n",
    "ds.SeriesInstanceUID = uid2 #'1.2.826.0.1.534147.578.2719282597.2020101685637450' #uid2\n",
    "ds.StudyID = ''\n",
    "ds.SeriesNumber = None\n",
    "ds.FrameOfReferenceUID = dsorg.FrameOfReferenceUID #'1.2.826.0.1.3680043.9.3218.1.1.302475.1985.1592890895061.53224.0' # dsOrg.FrameOfReferenceUID\n",
    "ds.PositionReferenceIndicator = ''\n",
    "ds.StructureSetLabel = 'Scaling04'\n",
    "ds.StructureSetDate ='20201116'\n",
    "ds.StructureSetTime ='085637'"
   ]
  },
  {
   "cell_type": "code",
   "execution_count": 70,
   "metadata": {},
   "outputs": [],
   "source": [
    "# Referenced Frame of Reference Sequence\n",
    "refd_frame_of_ref_sequence = Sequence()\n",
    "ds.ReferencedFrameOfReferenceSequence = refd_frame_of_ref_sequence\n",
    "\n",
    "# Referenced Frame of Reference Sequence: Referenced Frame of Reference 1\n",
    "refd_frame_of_ref1 = Dataset()\n",
    "refd_frame_of_ref1.FrameOfReferenceUID =dsorg.FrameOfReferenceUID # '1.2.826.0.1.3680043.9.3218.1.1.302475.1985.1592890895061.53224.0' \n",
    "\n",
    "# RT Referenced Study Sequence\n",
    "rt_refd_study_sequence = Sequence()\n",
    "refd_frame_of_ref1.RTReferencedStudySequence = rt_refd_study_sequence\n",
    "\n",
    "# RT Referenced Study Sequence: RT Referenced Study 1\n",
    "rt_refd_study1 = Dataset()\n",
    "rt_refd_study1.ReferencedSOPClassUID = '1.2.840.10008.3.1.2.3.1'\n",
    "rt_refd_study1.ReferencedSOPInstanceUID = dsorg.StudyInstanceUID #'1.2.826.0.1.3680043.9.3218.1.1.302475.1985.1592890895061.53221.0' # \n",
    "\n",
    "# RT Referenced Series Sequence\n",
    "rt_refd_series_sequence = Sequence()\n",
    "rt_refd_study1.RTReferencedSeriesSequence = rt_refd_series_sequence\n",
    "\n",
    "# RT Referenced Series Sequence: RT Referenced Series 1\n",
    "rt_refd_series1 = Dataset()\n",
    "rt_refd_series1.SeriesInstanceUID =dsorg.SeriesInstanceUID #'1.2.826.0.1.3680043.9.3218.1.1.302475.1985.1592890895061.53222.0'\n",
    "\n",
    "# Contour Image Sequence\n",
    "contour_image_sequence = Sequence()\n",
    "rt_refd_series1.ContourImageSequence = contour_image_sequence\n",
    "\n",
    "# Contour Image Sequence: Contour Image 1\n",
    "contour_image1 = Dataset()\n",
    "contour_image1.ReferencedSOPClassUID = '1.2.840.10008.5.1.4.1.1.2'\n",
    "contour_image1.ReferencedSOPInstanceUID = dsorg.SOPInstanceUID #'1.2.826.0.1.3680043.9.3218.1.1.302475.1985.1592890895061.53223.0' \n",
    "contour_image1.ReferencedFrameNumber = \"1\"\n",
    "contour_image_sequence.append(contour_image1)\n",
    "rt_refd_series_sequence.append(rt_refd_series1)\n",
    "rt_refd_study_sequence.append(rt_refd_study1)\n",
    "refd_frame_of_ref_sequence.append(refd_frame_of_ref1)\n",
    "\n",
    "\n",
    "# Structure Set ROI Sequence\n",
    "structure_set_roi_sequence = Sequence()\n",
    "ds.StructureSetROISequence = structure_set_roi_sequence\n",
    "\n",
    "# Structure Set ROI Sequence: Structure Set ROI 1\n",
    "structure_set_roi1 = Dataset()\n",
    "structure_set_roi1.ROINumber = \"1\"\n",
    "structure_set_roi1.ReferencedFrameOfReferenceUID = dsorg.FrameOfReferenceUID #'1.2.826.0.1.3680043.9.3218.1.1.302475.1985.1592890895061.53224.0' # \n",
    "structure_set_roi1.ROIName = 'TestScale'\n",
    "structure_set_roi1.ROIGenerationAlgorithm = ''\n",
    "structure_set_roi_sequence.append(structure_set_roi1)\n",
    "\n",
    "\n",
    "# ROI Contour Sequence\n",
    "roi_contour_sequence = Sequence()\n",
    "ds.ROIContourSequence = roi_contour_sequence\n",
    "\n",
    "# ROI Contour Sequence: ROI Contour 1\n",
    "roi_contour1 = Dataset()\n",
    "\n",
    "# Contour Sequence\n",
    "contour_sequence = Sequence()\n",
    "roi_contour1.ContourSequence = contour_sequence\n",
    "\n",
    "# Contour Sequence: Contour 1\n",
    "contour1 = Dataset()\n",
    "\n",
    "# Contour Image Sequence\n",
    "contour_image_sequence = Sequence()\n",
    "contour1.ContourImageSequence = contour_image_sequence\n",
    "\n",
    "# Contour Image Sequence: Contour Image 1\n",
    "contour_image1 = Dataset()\n",
    "contour_image1.ReferencedSOPClassUID = '1.2.840.10008.5.1.4.1.1.2'\n",
    "contour_image1.ReferencedSOPInstanceUID =dsorg.SOPInstanceUID #'1.2.826.0.1.3680043.9.3218.1.1.302475.1985.1592890895061.53223.0' \n",
    "contour_image1.ReferencedFrameNumber = \"1\"\n",
    "contour_image_sequence.append(contour_image1)\n",
    "\n",
    "contour1.ContourGeometricType = 'CLOSED_PLANAR'\n",
    "contour1.NumberOfContourPoints = len(borders)/3#\"4\"\n",
    "contour1.ContourNumber = \"1\"\n",
    "contour1.ContourData =borders # [-276.91503267973, -162.50000000000, 516.398692810457, 270.222222222222, -162.50000000000, 514.725490196078, 271.895424836601, -162.50000000000, -177.98039215686, -271.89542483660, -162.50000000000, -176.30718954248]\n",
    "contour_sequence.append(contour1)\n",
    "\n",
    "roi_contour1.ReferencedROINumber = \"1\"\n",
    "roi_contour_sequence.append(roi_contour1)\n",
    "\n",
    "\n",
    "# RT ROI Observations Sequence\n",
    "rtroi_observations_sequence = Sequence()\n",
    "ds.RTROIObservationsSequence = rtroi_observations_sequence\n",
    "\n",
    "# RT ROI Observations Sequence: RT ROI Observations 1\n",
    "rtroi_observations1 = Dataset()\n",
    "rtroi_observations1.ObservationNumber = \"1\"\n",
    "rtroi_observations1.ReferencedROINumber = \"1\"\n",
    "rtroi_observations1.RTROIInterpretedType = ''\n",
    "rtroi_observations1.ROIInterpreter = ''\n",
    "rtroi_observations_sequence.append(rtroi_observations1)\n"
   ]
  },
  {
   "cell_type": "code",
   "execution_count": 71,
   "metadata": {},
   "outputs": [],
   "source": [
    "ds.file_meta = file_meta\n",
    "ds.is_implicit_VR = False\n",
    "ds.is_little_endian = True\n"
   ]
  },
  {
   "cell_type": "code",
   "execution_count": 72,
   "metadata": {},
   "outputs": [],
   "source": [
    "ds.save_as(path+'Output/MyRtTest.dcm', write_like_original=False)"
   ]
  },
  {
   "cell_type": "code",
   "execution_count": 48,
   "metadata": {},
   "outputs": [
    {
     "data": {
      "text/plain": [
       "'/Users/Alireza/Desktop/Datasets/'"
      ]
     },
     "execution_count": 48,
     "metadata": {},
     "output_type": "execute_result"
    }
   ],
   "source": [
    "path"
   ]
  },
  {
   "cell_type": "code",
   "execution_count": null,
   "metadata": {},
   "outputs": [],
   "source": []
  }
 ],
 "metadata": {
  "kernelspec": {
   "display_name": "Python 3",
   "language": "python",
   "name": "python3"
  },
  "language_info": {
   "codemirror_mode": {
    "name": "ipython",
    "version": 3
   },
   "file_extension": ".py",
   "mimetype": "text/x-python",
   "name": "python",
   "nbconvert_exporter": "python",
   "pygments_lexer": "ipython3",
   "version": "3.8.5"
  }
 },
 "nbformat": 4,
 "nbformat_minor": 4
}
