{
 "cells": [
  {
   "cell_type": "code",
   "execution_count": 1,
   "metadata": {},
   "outputs": [],
   "source": [
    "#\n",
    "#    Please create 'DICOM' folder and put dicom file format into the folder\n",
    "#    Create three more folder for results: Mask,Borders,RTSTRUCT\n",
    "#\n"
   ]
  },
  {
   "cell_type": "code",
   "execution_count": 2,
   "metadata": {},
   "outputs": [
    {
     "name": "stdout",
     "output_type": "stream",
     "text": [
      "1.2.826.0.1.3680043.9.3218.1.1.1872364.1022.1591771672055.7043.0-3-79-6m2ufw.dcm\n"
     ]
    }
   ],
   "source": [
    "import segmentationtodicomrt as rt\n",
    "import os\n",
    "\n",
    "path='/Users/Alireza/Desktop/Datasets/covid4237/'\n",
    "files = os.listdir(path+'dicom')\n",
    "name=files[10]\n",
    "print(name)"
   ]
  },
  {
   "cell_type": "code",
   "execution_count": 3,
   "metadata": {},
   "outputs": [
    {
     "name": "stdout",
     "output_type": "stream",
     "text": [
      "INFO:root:No GPU support available, will use CPU. Note, that this is significantly slower!\n"
     ]
    },
    {
     "name": "stderr",
     "output_type": "stream",
     "text": [
      "100%|██████████| 1/1 [00:12<00:00, 12.12s/it]\n",
      "100%|██████████| 2/2 [00:00<00:00, 2014.07it/s]\n"
     ]
    }
   ],
   "source": [
    "rt.Image2Mask(path,name)"
   ]
  },
  {
   "cell_type": "code",
   "execution_count": 4,
   "metadata": {},
   "outputs": [],
   "source": [
    "rt.BorderPixels2NumpyArray(path,name,1)\n",
    "rt.BorderPixels2NumpyArray(path,name,2)"
   ]
  },
  {
   "cell_type": "code",
   "execution_count": null,
   "metadata": {},
   "outputs": [],
   "source": [
    "rt.TextMaskImage2Numpy(path)"
   ]
  },
  {
   "cell_type": "code",
   "execution_count": 5,
   "metadata": {},
   "outputs": [
    {
     "name": "stdout",
     "output_type": "stream",
     "text": [
      "Border14-1.2.826.0.1.3680043.9.3218.1.1.1872364.1022.1591771672055.7043.0-3-45-6lmuab.dcm.npy\n",
      "1955.5\n",
      "0\n",
      "Border8-1.2.826.0.1.3680043.9.3218.1.1.1872364.1022.1591771672055.7043.0-3-45-6lmuab.dcm.npy\n",
      "1955.5\n",
      "1\n",
      "Border10-1.2.826.0.1.3680043.9.3218.1.1.1872364.1022.1591771672055.7043.0-3-45-6lmuab.dcm.npy\n",
      "1955.5\n",
      "2\n",
      "Border6-1.2.826.0.1.3680043.9.3218.1.1.1872364.1022.1591771672055.7043.0-3-45-6lmuab.dcm.npy\n",
      "1955.5\n",
      "3\n",
      "Border12-1.2.826.0.1.3680043.9.3218.1.1.1872364.1022.1591771672055.7043.0-3-45-6lmuab.dcm.npy\n",
      "1955.5\n",
      "4\n",
      "Border4-1.2.826.0.1.3680043.9.3218.1.1.1872364.1022.1591771672055.7043.0-3-45-6lmuab.dcm.npy\n",
      "1955.5\n",
      "5\n",
      "Border5-1.2.826.0.1.3680043.9.3218.1.1.1872364.1022.1591771672055.7043.0-3-45-6lmuab.dcm.npy\n",
      "1955.5\n",
      "6\n",
      "1.2.826.0.1.3680043.9.3218.1.1.1872364.1022.1591771672055.7043.0-3-45-6lmuab.dcm.npy\n",
      "1955.5\n",
      "7\n",
      "Border13-1.2.826.0.1.3680043.9.3218.1.1.1872364.1022.1591771672055.7043.0-3-45-6lmuab.dcm.npy\n",
      "1955.5\n",
      "8\n",
      "Border1-1.2.826.0.1.3680043.9.3218.1.1.1872364.1022.1591771672055.7043.0-3-45-6lmuab.dcm.npy\n",
      "1955.5\n",
      "9\n",
      "Border7-1.2.826.0.1.3680043.9.3218.1.1.1872364.1022.1591771672055.7043.0-3-45-6lmuab.dcm.npy\n",
      "1955.5\n",
      "10\n",
      "Border11-1.2.826.0.1.3680043.9.3218.1.1.1872364.1022.1591771672055.7043.0-3-45-6lmuab.dcm.npy\n",
      "1955.5\n",
      "11\n",
      "Border9-1.2.826.0.1.3680043.9.3218.1.1.1872364.1022.1591771672055.7043.0-3-45-6lmuab.dcm.npy\n",
      "1955.5\n",
      "12\n",
      "Border3-1.2.826.0.1.3680043.9.3218.1.1.1872364.1022.1591771672055.7043.0-3-45-6lmuab.dcm.npy\n",
      "1955.5\n",
      "13\n",
      "Border1-1.2.826.0.1.3680043.9.3218.1.1.1872364.1022.1591771672055.7043.0-3-79-6m2ufw.dcm.npy\n",
      "1887.5\n",
      "14\n",
      "Border2-1.2.826.0.1.3680043.9.3218.1.1.1872364.1022.1591771672055.7043.0-3-79-6m2ufw.dcm.npy\n",
      "1887.5\n",
      "15\n",
      "Border2-1.2.826.0.1.3680043.9.3218.1.1.1872364.1022.1591771672055.7043.0-3-44-6lma9k.dcm.npy\n",
      "1957.5\n",
      "16\n",
      "Border1-1.2.826.0.1.3680043.9.3218.1.1.1872364.1022.1591771672055.7043.0-3-44-6lma9k.dcm.npy\n",
      "1957.5\n",
      "17\n",
      "Border3-1.2.826.0.1.3680043.9.3218.1.1.1872364.1022.1591771672055.7043.0-3-46-6lmwie.dcm.npy\n",
      "1953.5\n",
      "18\n",
      "Border1-1.2.826.0.1.3680043.9.3218.1.1.1872364.1022.1591771672055.7043.0-3-46-6lmwie.dcm.npy\n",
      "1953.5\n",
      "19\n",
      "Border5-1.2.826.0.1.3680043.9.3218.1.1.1872364.1022.1591771672055.7043.0-3-46-6lmwie.dcm.npy\n",
      "1953.5\n",
      "20\n",
      "Border4-1.2.826.0.1.3680043.9.3218.1.1.1872364.1022.1591771672055.7043.0-3-46-6lmwie.dcm.npy\n",
      "1953.5\n",
      "21\n",
      "Border2-1.2.826.0.1.3680043.9.3218.1.1.1872364.1022.1591771672055.7043.0-3-46-6lmwie.dcm.npy\n",
      "1953.5\n",
      "22\n",
      "Border14-1.2.826.0.1.3680043.9.3218.1.1.1872364.1022.1591771672055.7043.0-3-45-6lmuab.dcm.npy\n",
      "1955.5\n",
      "0\n",
      "Border8-1.2.826.0.1.3680043.9.3218.1.1.1872364.1022.1591771672055.7043.0-3-45-6lmuab.dcm.npy\n",
      "1955.5\n",
      "1\n",
      "Border10-1.2.826.0.1.3680043.9.3218.1.1.1872364.1022.1591771672055.7043.0-3-45-6lmuab.dcm.npy\n",
      "1955.5\n",
      "2\n",
      "Border6-1.2.826.0.1.3680043.9.3218.1.1.1872364.1022.1591771672055.7043.0-3-45-6lmuab.dcm.npy\n",
      "1955.5\n",
      "3\n",
      "Border12-1.2.826.0.1.3680043.9.3218.1.1.1872364.1022.1591771672055.7043.0-3-45-6lmuab.dcm.npy\n",
      "1955.5\n",
      "4\n",
      "Border4-1.2.826.0.1.3680043.9.3218.1.1.1872364.1022.1591771672055.7043.0-3-45-6lmuab.dcm.npy\n",
      "1955.5\n",
      "5\n",
      "Border5-1.2.826.0.1.3680043.9.3218.1.1.1872364.1022.1591771672055.7043.0-3-45-6lmuab.dcm.npy\n",
      "1955.5\n",
      "6\n",
      "1.2.826.0.1.3680043.9.3218.1.1.1872364.1022.1591771672055.7043.0-3-45-6lmuab.dcm.npy\n",
      "1955.5\n",
      "7\n",
      "Border13-1.2.826.0.1.3680043.9.3218.1.1.1872364.1022.1591771672055.7043.0-3-45-6lmuab.dcm.npy\n",
      "1955.5\n",
      "8\n",
      "Border1-1.2.826.0.1.3680043.9.3218.1.1.1872364.1022.1591771672055.7043.0-3-45-6lmuab.dcm.npy\n",
      "1955.5\n",
      "9\n",
      "Border7-1.2.826.0.1.3680043.9.3218.1.1.1872364.1022.1591771672055.7043.0-3-45-6lmuab.dcm.npy\n",
      "1955.5\n",
      "10\n",
      "Border11-1.2.826.0.1.3680043.9.3218.1.1.1872364.1022.1591771672055.7043.0-3-45-6lmuab.dcm.npy\n",
      "1955.5\n",
      "11\n",
      "Border9-1.2.826.0.1.3680043.9.3218.1.1.1872364.1022.1591771672055.7043.0-3-45-6lmuab.dcm.npy\n",
      "1955.5\n",
      "12\n",
      "Border3-1.2.826.0.1.3680043.9.3218.1.1.1872364.1022.1591771672055.7043.0-3-45-6lmuab.dcm.npy\n",
      "1955.5\n",
      "13\n",
      "Border1-1.2.826.0.1.3680043.9.3218.1.1.1872364.1022.1591771672055.7043.0-3-79-6m2ufw.dcm.npy\n",
      "1887.5\n",
      "14\n",
      "Border2-1.2.826.0.1.3680043.9.3218.1.1.1872364.1022.1591771672055.7043.0-3-79-6m2ufw.dcm.npy\n",
      "1887.5\n",
      "15\n",
      "Border2-1.2.826.0.1.3680043.9.3218.1.1.1872364.1022.1591771672055.7043.0-3-44-6lma9k.dcm.npy\n",
      "1957.5\n",
      "16\n",
      "Border1-1.2.826.0.1.3680043.9.3218.1.1.1872364.1022.1591771672055.7043.0-3-44-6lma9k.dcm.npy\n",
      "1957.5\n",
      "17\n",
      "Border3-1.2.826.0.1.3680043.9.3218.1.1.1872364.1022.1591771672055.7043.0-3-46-6lmwie.dcm.npy\n",
      "1953.5\n",
      "18\n",
      "Border1-1.2.826.0.1.3680043.9.3218.1.1.1872364.1022.1591771672055.7043.0-3-46-6lmwie.dcm.npy\n",
      "1953.5\n",
      "19\n",
      "Border5-1.2.826.0.1.3680043.9.3218.1.1.1872364.1022.1591771672055.7043.0-3-46-6lmwie.dcm.npy\n",
      "1953.5\n",
      "20\n",
      "Border4-1.2.826.0.1.3680043.9.3218.1.1.1872364.1022.1591771672055.7043.0-3-46-6lmwie.dcm.npy\n",
      "1953.5\n",
      "21\n",
      "Border2-1.2.826.0.1.3680043.9.3218.1.1.1872364.1022.1591771672055.7043.0-3-46-6lmwie.dcm.npy\n",
      "1953.5\n",
      "22\n"
     ]
    }
   ],
   "source": [
    "rt.DicomRT(path,name,1)\n",
    "rt.DicomRT(path,name,2)"
   ]
  },
  {
   "cell_type": "code",
   "execution_count": null,
   "metadata": {},
   "outputs": [],
   "source": [
    "# for i,name in enumerate(files):\n",
    "#     print(i,':',name)\n",
    "#     if name.find('.dcm')>=0:\n",
    "#         a=upload_roi(path,name,'testFunc'+str(i))"
   ]
  },
  {
   "cell_type": "code",
   "execution_count": 38,
   "metadata": {},
   "outputs": [],
   "source": [
    "# For Alphabet character\n",
    "name='1.2.826.0.1.3680043.9.3218.1.1.1872364.1022.1591771672055.7043.0-3-45-6lmuab.dcm'"
   ]
  },
  {
   "cell_type": "code",
   "execution_count": 39,
   "metadata": {},
   "outputs": [],
   "source": [
    "rt.DicomRT(path,name,1)\n",
    "#rt.DicomRT(path,name,2)"
   ]
  },
  {
   "cell_type": "code",
   "execution_count": null,
   "metadata": {},
   "outputs": [],
   "source": []
  }
 ],
 "metadata": {
  "kernelspec": {
   "display_name": "Python 3",
   "language": "python",
   "name": "python3"
  },
  "language_info": {
   "codemirror_mode": {
    "name": "ipython",
    "version": 3
   },
   "file_extension": ".py",
   "mimetype": "text/x-python",
   "name": "python",
   "nbconvert_exporter": "python",
   "pygments_lexer": "ipython3",
   "version": "3.8.5"
  }
 },
 "nbformat": 4,
 "nbformat_minor": 4
}
