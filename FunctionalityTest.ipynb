{
 "cells": [
  {
   "cell_type": "code",
   "execution_count": 1,
   "metadata": {},
   "outputs": [],
   "source": [
    "#\n",
    "#    Please create 'DICOM' folder and put dicom file format into the folder\n",
    "#    Create three more folder for results: Mask,Borders,RTSTRUCT\n",
    "#\n"
   ]
  },
  {
   "cell_type": "code",
   "execution_count": 6,
   "metadata": {},
   "outputs": [
    {
     "name": "stdout",
     "output_type": "stream",
     "text": [
      "1.2.826.0.1.3680043.9.3218.1.1.1872364.1022.1591771672055.7043.0-3-45-6lmuab.dcm\n"
     ]
    }
   ],
   "source": [
    "import segmentationtodicomrt as rt\n",
    "import os\n",
    "\n",
    "path='/Users/Alireza/Desktop/Datasets/covid4237/'\n",
    "files = os.listdir(path+'dicom')\n",
    "name=files[6]\n",
    "print(name)"
   ]
  },
  {
   "cell_type": "code",
   "execution_count": 9,
   "metadata": {},
   "outputs": [
    {
     "name": "stdout",
     "output_type": "stream",
     "text": [
      "INFO:root:No GPU support available, will use CPU. Note, that this is significantly slower!\n"
     ]
    },
    {
     "name": "stderr",
     "output_type": "stream",
     "text": [
      "100%|██████████| 1/1 [00:12<00:00, 12.45s/it]\n",
      "100%|██████████| 2/2 [00:00<00:00, 1831.57it/s]\n"
     ]
    }
   ],
   "source": [
    "rt.Image2Mask(path,name)"
   ]
  },
  {
   "cell_type": "code",
   "execution_count": 3,
   "metadata": {},
   "outputs": [],
   "source": [
    "rt.BorderPixels2NumpyArray(path,name,1)\n",
    "rt.BorderPixels2NumpyArray(path,name,2)"
   ]
  },
  {
   "cell_type": "code",
   "execution_count": 4,
   "metadata": {},
   "outputs": [],
   "source": [
    "rt.DicomRT(path,name,1)\n",
    "rt.DicomRT(path,name,2)"
   ]
  },
  {
   "cell_type": "code",
   "execution_count": null,
   "metadata": {},
   "outputs": [],
   "source": [
    "# for i,name in enumerate(files):\n",
    "#     print(i,':',name)\n",
    "#     if name.find('.dcm')>=0:\n",
    "#         a=upload_roi(path,name,'testFunc'+str(i))"
   ]
  }
 ],
 "metadata": {
  "kernelspec": {
   "display_name": "Python 3",
   "language": "python",
   "name": "python3"
  },
  "language_info": {
   "codemirror_mode": {
    "name": "ipython",
    "version": 3
   },
   "file_extension": ".py",
   "mimetype": "text/x-python",
   "name": "python",
   "nbconvert_exporter": "python",
   "pygments_lexer": "ipython3",
   "version": "3.8.3"
  }
 },
 "nbformat": 4,
 "nbformat_minor": 4
}
