{
 "cells": [
  {
   "cell_type": "code",
   "execution_count": 1,
   "metadata": {},
   "outputs": [],
   "source": [
    "import os"
   ]
  },
  {
   "cell_type": "code",
   "execution_count": 2,
   "metadata": {},
   "outputs": [],
   "source": [
    "import xnat\n",
    "\n",
    "xnathost   = 'https://ncita.xnat.radiology.medschl.cam.ac.uk'\n",
    "user_id    = 'anorouzi'\n",
    "pwd='anorouzi3613'\n",
    "session = xnat.connect(xnathost, user=user_id, password=pwd)"
   ]
  },
  {
   "cell_type": "code",
   "execution_count": 3,
   "metadata": {},
   "outputs": [],
   "source": [
    "project_id =    'COVIDSoftware'\n",
    "subject_id =    'Covid4237'\n",
    "experiment_id = 'Covid4237_CT1'\n",
    "\n",
    "xnat_project =    session.projects[project_id]\n",
    "xnat_subject =    session.classes.SubjectData(parent=xnat_project, label=subject_id)\n",
    "xnat_experiment = session.classes.CtSessionData(parent=xnat_subject, label=experiment_id)"
   ]
  },
  {
   "cell_type": "code",
   "execution_count": 4,
   "metadata": {},
   "outputs": [],
   "source": [
    "def upload_roi(path,file_name,lable):\n",
    "    target_url = (f\"/xapi/roi/projects/{xnat_project.id}/sessions/{xnat_experiment.id}/collections/{lable}\"f\"?type=RTSTRUCT&overwrite=true\")\n",
    "\n",
    "    file_path=path+file_name\n",
    "\n",
    "    with open(file_path, 'rb') as file:\n",
    "        response = session.put(target_url, data=file, accepted_status=[200])\n",
    "    return(response)"
   ]
  },
  {
   "cell_type": "code",
   "execution_count": 7,
   "metadata": {},
   "outputs": [
    {
     "name": "stdout",
     "output_type": "stream",
     "text": [
      "0 : .DS_Store\n",
      "1 : rt1-1.2.826.0.1.3680043.9.3218.1.1.1872364.1022.1591771672055.7043.0-3-45-6lmuab.dcm\n",
      "<Response [200]>\n",
      "2 : backup\n"
     ]
    }
   ],
   "source": [
    "path='/Users/Alireza/Desktop/Datasets/covid4237/RTSTRUCT/'\n",
    "files = os.listdir(path)\n",
    "for i,name in enumerate(files):\n",
    "    print(i,':',name)\n",
    "    if name.find('.dcm')>=0:\n",
    "        a=upload_roi(path,name,'MultiContour2_'+str(i))\n",
    "        print(a)\n"
   ]
  },
  {
   "cell_type": "code",
   "execution_count": 6,
   "metadata": {},
   "outputs": [
    {
     "data": {
      "text/plain": [
       "<Response [200]>"
      ]
     },
     "execution_count": 6,
     "metadata": {},
     "output_type": "execute_result"
    }
   ],
   "source": [
    "a"
   ]
  },
  {
   "cell_type": "code",
   "execution_count": null,
   "metadata": {},
   "outputs": [],
   "source": []
  }
 ],
 "metadata": {
  "kernelspec": {
   "display_name": "Python 3",
   "language": "python",
   "name": "python3"
  },
  "language_info": {
   "codemirror_mode": {
    "name": "ipython",
    "version": 3
   },
   "file_extension": ".py",
   "mimetype": "text/x-python",
   "name": "python",
   "nbconvert_exporter": "python",
   "pygments_lexer": "ipython3",
   "version": "3.8.5"
  }
 },
 "nbformat": 4,
 "nbformat_minor": 4
}
